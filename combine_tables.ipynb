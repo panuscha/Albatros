{
 "cells": [
  {
   "cell_type": "code",
   "execution_count": 20,
   "metadata": {},
   "outputs": [],
   "source": [
    "import pandas as pd"
   ]
  },
  {
   "cell_type": "markdown",
   "metadata": {},
   "source": [
    "#### Load CRM and Scraping tables"
   ]
  },
  {
   "cell_type": "code",
   "execution_count": 21,
   "metadata": {},
   "outputs": [
    {
     "data": {
      "application/vnd.microsoft.datawrangler.viewer.v0+json": {
       "columns": [
        {
         "name": "index",
         "rawType": "int64",
         "type": "integer"
        },
        {
         "name": "URL",
         "rawType": "object",
         "type": "string"
        },
        {
         "name": "Illustrators Scraped",
         "rawType": "object",
         "type": "unknown"
        },
        {
         "name": "Age",
         "rawType": "object",
         "type": "string"
        },
        {
         "name": "Book Parametes",
         "rawType": "object",
         "type": "string"
        },
        {
         "name": "Sold To",
         "rawType": "object",
         "type": "string"
        },
        {
         "name": "Description",
         "rawType": "object",
         "type": "string"
        },
        {
         "name": "Book Name",
         "rawType": "object",
         "type": "string"
        },
        {
         "name": "Authors Scraped",
         "rawType": "object",
         "type": "unknown"
        },
        {
         "name": "Scraping",
         "rawType": "bool",
         "type": "boolean"
        }
       ],
       "conversionMethod": "pd.DataFrame",
       "ref": "d7e97001-df40-429d-8b16-70bef48e99c6",
       "rows": [
        [
         "0",
         "https://www.albatrosmedia.eu/book/216_on-the-farm/",
         "Sharon Harmer",
         "3-5",
         "Size 230 x 245 mm | 14 pages | hardbinding",
         "Not found",
         "Read & Learn books are fun, educational stories that will keep children entertained as they learn. Beautifully illustrated, full of facts and information, these books also feature fun things to spot on every page, whilst learning about colour and numbers.\nRead & Learn\nIn this story we follow a little duckling on her journey around the farm, making new friends on the way and discovering all about the farm animals and the jobs they do. Make learning fun!",
         "On the Farm",
         "Joli Hannah",
         "True"
        ],
        [
         "1",
         "https://www.albatrosmedia.eu/book/244_life-at-the-mill/",
         "David J. Plant",
         "3-5",
         "Size 230 x 230 mm, 6 shaped spreads, board book",
         "French",
         "Life at…\nAccording to some stories, mills are haunted places. I wouldn’t know about that. But even without ghosts, there is much to marvel about at a mill.\nWater and wind are used to turn a heavy millstone, cut wood, swing a giant hammer, even dry out a lake… If you want to know about the miller’s man and the hatchet-man, this is the very book for you! In our best-selling format of board book with die cuts.",
         "Life at the Mill",
         "Ondřej Navrátil",
         "True"
        ],
        [
         "2",
         "https://www.albatrosmedia.eu/book/a-big-book-of-opposites/",
         "Katia Gaigalova",
         "3-5",
         "Size 230 x2 80 mm | 40 pages | hardbinding",
         "Catalan, Spanish, Italian, Serbian, English, Simplified Chinese, Slovene",
         "Well, on opening this book, you will discover that the world around us is filled with them! So why not look closely at them? When you do, you will learn that things can be cold, light or pointed, even stinky… Each of these things has an opposite – something that is warm, heavy, nicely rounded or fragrant. And these are just a few of the things in this book – there is much, much more to discover. So, what are you waiting for? Let’s get started!\nWould you like to know what is fragile, what is fast, and what is loud? One scoop of ice cream – is it a lot or a little? And do you know what opposites are?",
         "A Big Book of Opposites",
         "Magda N. Garguláková",
         "True"
        ],
        [
         "3",
         "https://www.albatrosmedia.eu/book/a-big-book-of-poison/",
         "Anastasia Stročkova",
         "6-8",
         "Size 215 x 280 mm, 24 pages + 10 fold-outs, hardcover",
         "Catalan, Simplified Chinese, Spanish",
         "Have you ever wondered what venom is, how it’s made and why or where it comes from and what it does?\nIt poisons, you say? Sure, people should definitely respect venom. But did you know that when administered in small doses it can heal you or relieve your pain, provided you know how to go about it? Some animals need venom in order to protect themselves against hostile environments. If they weren’t venomous, their time on this Earth would be short-lived, indeed. So who and what is venomous, a little bit or a lot? And why do plants use venom? No idea? Well, in that case get engrossed in this book—you’ll learn in no time. But watch out! Proceed at your own risk!\nThe Big Books of …",
         "A Big Book of Poison",
         "Šárka Fenyková",
         "True"
        ],
        [
         "4",
         "https://www.albatrosmedia.eu/book/a-big-book-of-snow-and-ice/",
         "Niké Papadopulosová",
         "6-8",
         "Size 215 x 280 mm, 24 pages + 10 fold-outs, hardcover",
         "Russian, Simplified Chinese",
         "How does snow form, and how many types of snow are there? Are any two snowflakes the same, and what good do snow and ice actually do? You don't know? Then put on your hat and gloves and let us welcome you to a book filled with cold, snowdrifts and blocks of ice.\nHow does snow form, and how many types of snow are there? Are any two snowflakes the same? What is the use of snow and ice? Every chilly question gets a frozen answer in this package of full-page illustrations, openable flaps and information charged with cold. What’s it like to be hit by an avalanche, to live in an igloo or to sleep on a bed of hardened ice? What are you waiting for, curious reader? Give it a try. Don’t forget to bring warm gloves, a scarf and a proper hat. And watch out! There’s a snowstorm on the way.\nThe Big Books of …",
         "A Big Book of Snow and Ice",
         "Štěpánka Sekaninová",
         "True"
        ],
        [
         "5",
         "https://www.albatrosmedia.eu/book/a-big-book-of-the-dark/",
         "Jiří Franta",
         "6-8",
         "Size 215 x 280 mm, 24 pages + 10 fold-outs, hardcover",
         "German, Simplified Chinese, Ukrainian, Vietnamese",
         "Do you think that the streets of your town and the countryside around it are completely silent and deserted at night? This book will open your eyes! You will find out that there are nocturnal animals that are active while you sleep, plants that glow in the dark, and even people who work at night and go to sleep when you get up! You will have the opportunity to see what happens in the night in a forest, in a town, in a village, at an airport and also which creatures live in eternal darkness in oceans and underground. Darkness is full of life, and it is great fun to discover!\n5 full-page pictures of nightlife in various environments. See what is happening while you sleep!_x000D_\n\nThe Big Books of …",
         "A Big Book of the Dark",
         "Helena Haraštová",
         "True"
        ],
        [
         "6",
         "https://www.albatrosmedia.eu/book/a-big-book-of-underground/",
         "Marta Daeuble",
         "6-8",
         "Size 215 x 280 mm, 24 pages + 10 fold-outs, hardcover",
         "Simplified Chinese, Ukrainian, Vietnamese",
         "The Big Books of …\nIf you think that underground is just pitch-black soil with no sign of life, you should think again. All kinds of things go on there! Roots feed plants, moles hunt worms, worms flee from moles, carbon forms coal, miners work and extract what we need. People park and shop, athletes train and swim, art-lovers study pictures. I’m not making this up, you know! There’s nothing dull about life underground, never has been and never will be. If you don’t believe me, you should go down there with me… all the way to the very core. But will you be brave enough? Besides, there’s a danger that you’ll like it so much, you won’t want to come back up. The delightful illustrations, system of fold-out flaps and details of life beneath our feet are enough to make your head spin. Do be careful not to get your hands mucky!\nHow do you imagine life underground to be? Pitch-black and cold? If so, you couldn’t be more wrong. Life underground is really busy. Animals, plants, garages, sports centres and galleries – they’re all there. You don’t believe me? Then come and take a look. These delightful illustrations and detailed information on the world down below will put you right once and for all.",
         "A Big Book of the Underground",
         "Štěpánka Sekaninová",
         "True"
        ],
        [
         "7",
         "https://www.albatrosmedia.eu/book/a-big-tasty-earthworm/",
         "Katarína Macurová",
         "3-5",
         "Size 235 x 265 mm, 48 pages, hardcover",
         "Arabic for Israel, Catalan, Complex Chinese, English, French, Hebrew, Korean, Simplified Chinese, Spanish, Thai",
         "Off he went and found an unusual earthworm, which wasn’t going to leave the earth without a bitter struggle. After battling and defeating his adversary, Pipo discovered something he hadn’t expected…\nOnce there were three friends, Pipo, Bod and Kenny, who were always thinking up new ways to play. They were always at their happiest when they were together. Until one day Pipo didn’t fancy eating watermelon like the others\nA funny new story for spring by a renowned author of popular children’s books about how nice it is sometimes to do something different.\nLittle Stories for Little Readers",
         "A Big Tasty Earthworm",
         "Katarína Macurová",
         "True"
        ],
        [
         "8",
         "https://www.albatrosmedia.eu/book/a-book-of-feelings/",
         "Milan Starý",
         "6-8",
         "PASPARTA PUBLISHING, size 235 x 278 mm, 96 pages, paperback",
         "Not found",
         "It encourages group discussions and self-reflection, guiding children to recognize, accept, and manage their emotions. Ideal for use by educators, psychologists, and parents, this book fosters emotional awareness and empathy in a supportive and interactive environment.\nThis books is an essential resource for helping children aged eight and up understand and navigate their emotions. The book explores thirteen distinct feelings, using colorcoded chapters, comic-strip stories, and interactive activities to engage young readers._x000D_\n",
         "A Book of Feelings",
         "Jana Draberová;Ester Stará",
         "True"
        ],
        [
         "9",
         "https://www.albatrosmedia.eu/book/a-bug-hotel/",
         "Tomáš Kopecký",
         "3-5",
         "Size 230 x 260 mm, 32 pages with a fold-out map, hardcover",
         "Catalan, Dutch, French, German, Russian, Spanish, Thai",
         "Living Quarters in Nature\nSmall and fragile, they are easy to overlook in the countryside. Which is a pity. Do you have any idea how picturesque the lives of insects can be? \nTake the longhorn beetle. It may look like an antisocial know-all, but that’s because of its extremely long antennae, which make it difficult to approach. Then there’s the dragonfly. It flaps its wings so rarely and carelessly, it’s a wonder it doesn’t fall. And these are just two of the creatures in the remarkable world of insects. So what are you waiting for? Open the book, step into the Insect Hotel and get to know first-hand its fragile guests with their antennae and wing-cases. The ladybird receptionist is so impatient for your arrival that she is tapping the table with her pencil…",
         "A Bug Hotel",
         "Petra Bartíková;Helena Haraštová",
         "True"
        ],
        [
         "10",
         "https://www.albatrosmedia.eu/book/a-curious-dragon-and-the-seasons/",
         "Linh Dao",
         "3-5",
         "Size 240 x 240 mm, 12 spreads, novelty format",
         "Bulgarian, Greek, Spanish",
         "Curious Dragon\nHow do we know that spring is here? What makes winter winter? When can we bathe in an outdoor pool? When is it windy enough to fly a kite? If all this confuses you, don’t worry: our cute little dragon and his birdie friend will reveal to all inquisitive young readers the secrets of the seasons.",
         "A Curious Dragon and the Seasons",
         "Štěpánka Sekaninová",
         "True"
        ],
        [
         "11",
         "https://www.albatrosmedia.eu/book/a-curious-dragon-and-the-weather/",
         "Linh Dao",
         "3-5",
         "Size 240 x 240 mm, 12 spreads, novelty format",
         "Bulgarian, Greek, Spanish",
         "Curious Dragon\nWhat is rain, and what is a storm? Why is the sky sometimes red? Is it true that there is more than one type of snow? These are just some of the questions that keep a certain little dragon awake at night. He would love to know exactly what weather is. Luckily, his little bird friend is able to explain it all.",
         "A Curious Dragon and the Weather",
         "Štěpánka Sekaninová",
         "True"
        ],
        [
         "12",
         "https://www.albatrosmedia.eu/book/a-day-of-colours/",
         "Veronika Dvořáková",
         "3-5",
         "Size 200 x 200 mm, 7 spreads, boardbook",
         "Not found",
         "Learn and talk\nThere are so many colours, making different shades and moods! Some are bold and cheerful, others dark and mysterious. Wake up one morning with little Theo and learn to recognize and name them all – just like that, at breakfast or in the bathroom! Then oof you go to play together outside! Enjoy a DAY OF COLOURS with us!\nRed, yellow and blue… green and pink too.\n• Skillful Storytelling: Builds basic soft skills in one delightful book.\n• Creative Connections: Combining with storytelling for imaginative learning.\n• Educational Content: Teaches through fun engaging day-in-the-life stories.",
         "A Day of Colours",
         "Magda N. Garguláková",
         "True"
        ],
        [
         "13",
         "https://www.albatrosmedia.eu/book/a-diverse-world/",
         "Hedviga Gutierrez",
         "3-5",
         "Size 180 x 250 mm | 44 pages | hardbinding",
         "Not found",
         "People live in various countries, have different traditions, interests, housing and even pets. Have you ever thought about what traditions are celebrated in Africa? What food is especially popular in India? What kind of view do children in Sweden have from their windows?\nOpen up the book A Diverse World, full of colourful illustrations, and come along with us to learn about various cultures. As you read, you will also be able to think about what distinguishes you from others and what, in contrast, connects you with them.  ",
         "A Diverse World",
         "Lenka Chytilová",
         "True"
        ],
        [
         "14",
         "https://www.albatrosmedia.eu/book/a-dozen-stories-for-the-little-ones/",
         "Vojtěch Kubašta",
         "3-5",
         "12 pop-ups in one box | size of the box 216x127x120 mm | size of each book 110x110 mm | 12x10 pages",
         "Not found",
         "Twelve famous and beautiful fairy tales – now as pop-ups for the littlest ones!\nBooks of Vojtěch Kubašta, a world pioneer in pop-up books, are well-known around the globe. This time we are bringing something a little bit different to the children: short, yet playful and educational texts accompanied by simple, amusing pop-ups. There are 12 books in a box that are just perfect to grab, even for small hands. Beginner readers can go through the series book by book, or, if they prefer, choose ones they are in the mood for. One thing is for sure: they are going to have a great time!",
         "Dozen Little Stories for the Little Ones",
         "Hana Škodová;Eduard Škoda",
         "True"
        ],
        [
         "15",
         "https://www.albatrosmedia.eu/book/a-forest-city/",
         "Justyna Hołubowska-Chrząszczak",
         "3-5",
         "Size 230 x 260 mm, 32 pages with a fold-out map, hardcover",
         "Dutch, French, Russian, Spanish, Thai",
         "Living Quarters in Nature\nLife in the forest is all hustle and bustle – it’s as though the animals have learned the human art of hurrying. Can you imagine how it would be if things worked in the forest as they do in the city?\nThe leader of an organized pack of wolves would become mayor, the cream of society would be made up of deer, and the rook would show off his skills as a street entertainer. There would be a pigeon-post service, plus a vibrant night life. So come with us to the Forest City to learn lots about the folk who live here and important facts about each district of the city. And if you happen to get lost, there is nothing to fear – each book contains an easy-to-read map.",
         "Forest City",
         "Helena Haraštová",
         "True"
        ],
        [
         "16",
         "https://www.albatrosmedia.eu/book/a-house-full-of-animals-find-hidden-animals/",
         "Zuzana Dreadka Krutá",
         "3-5",
         "size 215 x 280 mm | 7 spreads | flaps | hardbinding",
         "Bulgarian, Greek, Italian, Lithuanian, Slovene, Spanish",
         "A small hole in the fence, that’s all it took for a great, fun adventure to start. Curious animals from a nearby ZOO set out to explore a neighbouring house. They’re going to search six rooms in total, enjoying their visit immensely. They’ll take a taste of many goodies, have a nap, crawl inside wardrobes, climb on shelves, even jump into the bathtub.\nFind all 86 animals that have hidden themselves inside this generously illustrated interactive book for small readers, and learn many interesting facts!",
         "A House Full of Animals: Find Hidden Animals",
         "Sabina Konečná",
         "True"
        ],
        [
         "17",
         "https://www.albatrosmedia.eu/book/a-house-full-of-little-wheels/",
         "Vojtěch Kubašta",
         "3-5",
         "Size 220 × 158 mm | 6 spreads | board book",
         "Not found",
         "It is seven in the morning, and a little boy called Henry and his sister Lucy jump out of bed and do their exercises. Hurray for the new day!\nIf you would like to know about all that awaits the little brother and sister, open this board book by ingenious artist Vojtěch Kubašta. As the hands of the clock move unstoppably around its face, you will soon understand that a child’s day from seven till seven is filled with great adventures. ",
         "A House Full of Little Wheels",
         "Štěpánka Sekaninová",
         "True"
        ],
        [
         "18",
         "https://www.albatrosmedia.eu/book/a-little-house-full-of-friends/",
         "Vojtěch Kubašta",
         "3-5",
         "Size 254 × 193 mm | 6 spreads with pop-ups | hardbinding",
         "Not found",
         "On a hill, there is a little house built of toy bricks. Who do you think lives in it? \nWhy, Barnaby the dog and Mitsy the cat of course! But they don’t keep house alone – the twittering tits, mischievous monkeys Chuck and Zack, the tin soldiers in their beautiful uniforms and Wisebeard the old gnome all keep them company. Sometimes, life at the little house gets very jolly and loud. And the best is still to come. Look, Teg the bear is there too! Read this unconventional three-dimensional book by Czech artist Vojtěch Kubašta, whose work is admired all over the world.\nVojtěch Kubašta’s Animals",
         "A Little House Full of Friends",
         null,
         "True"
        ],
        [
         "19",
         "https://www.albatrosmedia.eu/book/a-world-atlas-of-ghosts-and-friends/",
         "Patrik Antczak",
         "6-8",
         "size 230 x 330 mm | 88 pages | hardbinding",
         "French, Latvian, Italian",
         "Learn about the ghosts and friends of all continents, and overcome your fear!\nIt looks like a dinosaur, but it’s got two extra heads. Whoever falls into her clutches must serve at her palace. In the evenings, they dance around cocoa beans and boil up a pot of super-thick cocoa. Who are they? That’s right: the three-headed dragon, the ice queen and the cocoa pygmies … Allow us to introduce you to the world’s strangest creatures! There have always been ghosts and friends, and we can be sure that there always will be. Would you like to know what they look like in Europe, Asia and other continents? Then read A World Atlas of Ghosts and Friends. From the seven maps in this book, you’ll discover which creatures are dangerous and which are as meek as lambs. You’ll also learn what to expect from them and, if you happen to run into them, how to defend yourself.",
         "A World Atlas of Ghosts and Friends",
         "Katarína H. Belejová;Štěpánka Sekaninová;Petra Bartíková",
         "True"
        ],
        [
         "20",
         "https://www.albatrosmedia.eu/book/a-year-in-the-garden/",
         "Aneta Žabková",
         "6-8",
         "Size 250 x 250 mm | case cover + 10 spreads | 4 booklets | 4 concertina folds | 12 flaps | hardbinding",
         "Not found",
         "Open this book to discover how nature changes in the garden as the four seasons – spring, summer, autumn and winter – come and go. \nWhat grows or flowers when? How do animals behave? What does the earthworm do deep in the ground? How is a frog born, and why do millipedes run like crazy across spring-time leaves? With this book, you can look inside a tree trunk and deep underground. You can find out what a mole’s home is like, and where bumblebees build their nests. You’ll learn to identify garden flowers, and you’ll discover how dragonflies spend winter in the pond. Besides all this, you can make your own ladybird house and simple bird feeder – you’ll find the instructions inside. So what are you waiting for? Off to the garden we go!\nA Year in Nature",
         "A Year in the Garden",
         "Petra Bartíková",
         "True"
        ],
        [
         "21",
         "https://www.albatrosmedia.eu/book/a-year-in-the-woods/",
         "Aneta Žabková",
         "6-8",
         "Size 250 x 250 mm | case cover + 10 spreads | 4 booklets | 4 concertina folds | 12 flaps | hardbinding",
         "Not found",
         "A Year in Nature\nWham! Bam! What’s that falling from the trees? Acorns. And cones. Oh, that’s why! There’s a squirrel up there, jumping from tree to tree, hiding in the branches, knocking things down. The little scamp! Open the book and take a look at this cute acrobat and her friends in the woods. Find out how nature changes through all four seasons — in spring, summer, autumn and winter. You will find out what grows and flowers and when, how the animals behave, the identity of a most mysterious inhabitant of the woods and rocks, what the marten does after dark, and why snakes stick out their tongues. With this book you can look inside a tree trunk and deep underground. You’ll discover what a woodpecker’s home looks like, what fox cubs play with in their dens and why the squirrel hides its nuts. You’ll learn to distinguish animals by their tracks and trees by their leaves. Besides all this, you can make your own herbarium and a periscope so you can watch animals in the wild from a spring-time hiding place – you’ll find the instructions inside. So what are you waiting for? Off to the woods in search of adventure!\nFind out how nature changes through all four seasons — in spring, summer, autumn and winter. There are 12 flaps, 4 booklets, 4 concertina folds inside the book!_x000D_\n",
         "A Year in the Woods",
         "Petra Bartíková",
         "True"
        ],
        [
         "22",
         "https://www.albatrosmedia.eu/book/accross-7-continents/",
         "Jakub Cenkl",
         "6-8",
         "Size 270 × 215 mm | 9 spreads with gatefold | spot UV on cover | hardbinding",
         "Not found",
         "Imagine boarding a train and learning that there’s a fare-dodger among your fellow passengers. It’s surely much more fun to search for the troublemaker than to sit there getting bored! \nThis is precisely what Julie and Wendel do. Journeys can seem endless, especially ones that take you all around the world. Fancy having a real traveller’s global adventure, and becoming something of a detective at the same time? Then what are you waiting for? Our special train is about to depart, so hop aboard! Don’t forget to pack a sizeable snack and a heavy dose of courage – and a valid ticket, of course!\nA Great Train of Adventure",
         "Across 7 Continents",
         "Štěpánka Sekaninová",
         "True"
        ],
        [
         "23",
         "https://www.albatrosmedia.eu/book/adventure-geometry-the-cube/",
         "Martin Hanschild",
         "6-8",
         "Size 215 x 260 mm, 32 pages, hardcover",
         "Simplified Chinese",
         " \nA unique book that challenges the conventional notion of cubes._x000D_\n_x000D_\nThis innovative narrative showcases the versatility of cubes, presenting them in various contexts – from architectural marvels to sweet, honey-like forms, and even humorous, unexpected scenarios. The book offers an abundance of cube-shaped stories, each more captivating than the last._x000D_\n\nAdventure Geometry",
         "Adventure Geometry: The Cube",
         "Bohdana Jarošová",
         "True"
        ],
        [
         "24",
         "https://www.albatrosmedia.eu/book/adventure-geometry-the-sphere/",
         "Martin Hanschild",
         "6-8",
         "Size 215 x 260 mm, 32 pages, hardcover",
         "Simplified Chinese",
         " \nAdventure Geometry\nAn engaging exploration into the world of spheres, challenging the children’s perception of this familiar shape._x000D_\n_x000D_\nThis book brings to life the concept of spheres through the adventures of a charismatic and self-assured sphere. Readers will discover the sphere in various forms – from ordinary balls to the grandeur of planet Earth, and the enigmatic phenomenon of ball lightning. The narrative combines playful storytelling with factual information, making complex concepts accessible and enjoyable._x000D_\n",
         "Adventure Geometry: The Sphere",
         "Bohdana Jarošová",
         "True"
        ],
        [
         "25",
         "https://www.albatrosmedia.eu/book/adventures-around-the-world-with-lily-the-explorer/",
         "Jakub Cenkl",
         "6-8",
         "Size 257 x 228 mm | widespreaded 514 x 456 mm | 6 spreads with gatefold + booklets | hardbinding",
         "Simplified Chinese, Estonian, Greek, Italian, Spanish",
         "Just because I wear a tulle skirt and like pink doesn’t mean that I’m a scaredy-cat. So says a little girl called Lily, as she and her adorable scooter set out on a great expedition to the most adventure-packed places in the world.\nSome are pretty dangerous, too. A dive with sharks? A walk across a glass bridge? A drive in the Ferrari of death? All no problem for our dainty explorer. Dare you go with her? You do? Then leave your fear at home and open the book at the first page. Adventure calls!\nOur World of Adventure",
         "Adventures around the World with Lily",
         "Helena Haraštová",
         "True"
        ],
        [
         "26",
         "https://www.albatrosmedia.eu/book/adventures-of-crime-and-punishment/",
         "Marcel Králik",
         "9-12",
         "size 215 x 280 mm | 48 pages | hardbinding",
         "Estonian, Vietnamese",
         "A history of how thieves, fraudsters and violent criminals were punished\nThe guillotine. The word itself has a strange sound. To say nothing of the brief moment with the keen whistle, the last thing the condemned would ever hear… The French guillotine was in use for over 200 years, in the course of which it separated around 100,000 heads from their bodies! Every nation and every time punished its thieves and rogues in a different, imaginative way – as names and slang terms for popular instruments of torture (e.g. Lamentation Mount, rack, Capet’s necktie, drunkard’s cloak, thumbscrew, cat o’ nine tails) go to show. While we’re on the subject of animals, do you know what they were used for thousands of years ago? The history of painful interrogation has plenty of bite!",
         "Adventures of Crime and Punishment",
         "Jiří Linhart",
         "True"
        ],
        [
         "27",
         "https://www.albatrosmedia.eu/book/agatha-the-curious-witch/",
         "Katarina Kratochvílová",
         "3-5",
         "Size 205 x 256 mm, 56 pages, hardcover",
         "Greek, Romanian",
         "Agatha the little witch is about to explore the world of humans. How will she get on?\nWell, she will find it full of surprises. If a bat or a toad is not the right birthday present, what should she take to the party? If not for flying on, why do dustmen have brooms? She has so many questions, but magic and spells aren’t much use to her. A jolly story for young, curious readers who like to make discoveries.",
         "Agatha the Curious Witch",
         "Linda Pacourková",
         "True"
        ],
        [
         "28",
         "https://www.albatrosmedia.eu/book/alices-adventures-in-wonderland/",
         "Vojtěch Kubašta",
         "6-8",
         "Size 235 x 325 mm | 8 pages | endpapers with pop-ups | hardbinding",
         "Not found",
         "A little girl called Alice follows a strange White Rabbit and jumps after him into a rabbit hole. What happens next? \nKubašta’s Wonderland\nDoes she fall right to the bottom, to a place where the rules of the human world are of no use? Does she grow to be a giantess and also shrink to be mere millimetres tall? Is this a place where Time doesn’t matter, and everything is decided by the Queen of Hearts? All of this applies! If you would like to join Alice in getting to the bottom of the mystery, you are in the right place. Settle down with Lewis Carroll’s immortal story in a unique rendering by world-famous artist Vojtěch Kubašta, whose works have entertained generations of children. And make haste, or the White Rabbit will get away…",
         "Alice’s Adventures in Wonderland",
         "Vojtěch Kubašta",
         "True"
        ],
        [
         "29",
         "https://www.albatrosmedia.eu/book/all-aboard-rocket/",
         "Diarmuid Ó Catháin",
         "6-8",
         "Size 240 x 240 mm, 10 spreads, novelty format",
         "Bulgarian, Catalan, English, Italian, Simplified Chinese, Slovene, Spanish, Valencian, Uzbek",
         "Together you’ll learn many interesting things about rockets and other spacecraft. You’ll meet the most famous types and also catch a glimpse of what goes on before you even get to go to space – astronaut training and rocket lift off included! Join Karl in his spacecraft, get to know the solar system and even more! Who knows what is hiding beyond our galaxy..\nAll Aboard!\nIs space the number one topic you’re interested in? Would you like to learn what breathtaking objects and man-made machines are flying around in space? Would you like to become an astronaut and see everything with your own eyes? Kiwi bird Karl is interested in just that. His biggest dream is to visit space as an astronaut.",
         "Rocket",
         "Pavla Hanáčková",
         "True"
        ],
        [
         "30",
         "https://www.albatrosmedia.eu/book/all-aboard-tractor/",
         "Diarmuid Ó Catháin",
         "6-8",
         "Size 240 x 240 mm, 10 spreads, novelty format",
         "English, Italien, Simplified Chinese, Slovene, Uzbek",
         "Are farms the number one thing you’re interested in? Would you like to learn what amazing animals, plants, and fabulous machines you may encounter on a farm? Would you like to become a farmer and see everything with your own eyes? Kiwi bird Karl is interested in just that. He wants to find out how to grow his own food!  \nTogether you’ll learn many interesting things about tractors and other farm machinery. Moreover, you’ll discover the inner workings of a farm – be it the harvest or everyday chores! Not only will you learn some fun facts, but you’ll also find out where the food we eat comes from. Join Karl in his tractor and have a peek at what goes on on a farm and even beyond it!\nAll Aboard!",
         "Tractor",
         "Pavla Hanáčková",
         "True"
        ],
        [
         "31",
         "https://www.albatrosmedia.eu/book/all-about-the-egg/",
         "Matej Ilčík",
         "6-8",
         "Size 215 x 280 mm | 64 pages | pocket with a folding poster | hardbinding",
         "Complex Chinese,  Estonian, French for Europe,  German, Italian, Korean,  Polish, Russian, Simplified  Chinese, Slovene, Spanish  for Chile, Thai, Vietnamese",
         "Eggs are always at the beginning of new life. Come and discover all of the mysteries connected with them…\nAll about…\nTake a look at the nests of various sizes hidden in branches, underground, high up on cliffs or deep under the surface of the sea. Who lays the most eggs at one go, who has the strangest, the smallest or, in contrast, the largest eggs? Who shows them off to others for admiration and who hides their eggs from the rest of the world in chambers on a sandy beach? Eggs are always at the beginning of new life. Come and discover all of the mysteries connected with them…",
         "All about the Egg",
         "Blanka Sedláková;Eva Bártová;Markéta Nováková",
         "True"
        ],
        [
         "32",
         "https://www.albatrosmedia.eu/book/all-about-the-eye/",
         "Matej Ilčík",
         "6-8",
         "Size 215 x 280 mm | 64 pages | pocket with a folding poster | hardbinding",
         "Simplified Chinese, Vietnamese, Thai",
         "The book All About the Eye gives you a unique opportunity to investigate these ‘windows of the soul’ and to discover how they evolved and how they have affected the lives of their owners. You will travel across continents, as the book contains a large-format map showing where eyes described in the book come from. So, open your eyes wide and read carefully. If you read every word and study every illustration, you will soon know all about the eye.\nAll about…\nEyes are windows to the soul, they say. And there are as many kinds of eye as there are kinds of window.",
         "All about the Eye",
         "Marie Kotasová Adámková",
         "True"
        ],
        [
         "33",
         "https://www.albatrosmedia.eu/book/all-about-the-feather/",
         "Matej Ilčík",
         "6-8",
         "Size 215 x 280 mm | 64 pages | pocket with a folding poster | hardbinding",
         "French, Italian,  Simplified Chinese,  Vietnamese",
         "A feather lies under a tree. Who could it belong to? Blow on it and watch it float up to the sky, as light as… well, a feather!\nFeathers are as diverse as the birds that wear them to suit their habitat. So the lovely eider of the North has warm feathers, the white-throated dipper greasy ones, a penguin on the ice plains feathers that won’t freeze. Many birds make a feather bed in their nests to lay their fragile eggs on; the feathers of some males make them more beautiful for the attracting of a bride. See how the peacock struts? The hoopoe shows off its crest, while the brambling has got itself a new wedding dress! Learn about the most interesting species in the bird kingdom and their feathers – on a large-format poster too!\nAll about…",
         "All about the Feather",
         "Marie Kotasová Adámková;Markéta Nováková",
         "True"
        ],
        [
         "34",
         "https://www.albatrosmedia.eu/book/all-about-time/",
         "Anna Jones",
         "3-5",
         "Size 237 x 306 mm, 24 pages + 8 sticker sheets, saddle stitched sticker binding",
         "Bulgarian, Catalan, English, Italian, Slovak, Spanish",
         "Thanks to this title children discover and create diverse scenes. Colourful scenarios and lots of stickers will keep them busy for hours.\nDeLuxe Activity Sticker Books",
         "All About Time",
         "Joli Hannah",
         "True"
        ],
        [
         "35",
         "https://www.albatrosmedia.eu/book/all-nine-dormice-in-the-house/",
         "Andrea Tachezy",
         "3-5",
         "Size 240 x 160 mm | 12 pages | board book",
         "Not found",
         "First, a shy, little dormouse pulls a second one out of a mirror, then a third appears, and so on. With each dormouse that appears children can practice not only counting, but also enjoy a smart story of nine little friends.\nA board book bound in a red linen that nicely matches the fine details in the illustrations. In contrast to the well-known poem Ten Little Indians, in which the number is ever decreasing, in this book, the number of dormice constantly increases.",
         "All Nine Dormice in the House",
         "Radek Malý",
         "True"
        ],
        [
         "36",
         "https://www.albatrosmedia.eu/book/all-that-bites-with-or-without-teeth/",
         "Tomáš Pernický",
         "6-8",
         "Size 270 x 380 mm | 48 pages | hardbinding",
         "Simplified Chinese",
         "In Motion\nI bite, you bite, everyone bites! Who? The people, animals, plants, and many other things introduced in this book—a guide to biting and teeth.\nI bite, you bite, everyone bites! Who? The people, animals, plants, and many other things introduced in this book—a guide to biting and teeth. No one’s surprised to learn that biting is a specialty of sharks or baboons. But would you believe that even fragile flowers or robust trees can have some real gnashers? And what about… You know what? Learn for yourself who bites like mad and who just bares their teeth for show. This entertaining book is ready to devour you, full of teeth and anything toothy that it is. Pluck up your courage and venture into this sharp world. You’ll see many beautiful pictures along the way and may even learn how important teeth are in your life… At least your mum won’t have to chase you around just to make sure you brush them.",
         "All that Bites with or without Teeth",
         "Štěpánka Sekaninová",
         "True"
        ],
        [
         "37",
         "https://www.albatrosmedia.eu/book/all-that-flies-with-or-without-feathers/",
         "Tomáš Pernický",
         "6-8",
         "Size 270 x 380 mm | 48 pages | hardbinding",
         "Italian, French, Simplified Chinese, Thai, German",
         "In Motion\nIt’s as clear as day that birds and butterflies are good flyers, but what about fish and gibbons? Take a look with us at who and what is a great flyer, and how they do it. This fun book is filled with blue sky accompanied with fluffy clouds here and there —and it’s all ready for you to explore. Stretch your muscles, prepare to jump and voila! You’re now flying. As you fly along, you’ll see lovely pictures, and maybe you will overcome your fear of heights (in case you do fear them).\nI fly, you fly, we all fly! That’s what the people, animals, plants and things on every page of this book say, because it’s nothing other than a book about flying and hovering. ",
         "All that Flies with or without Feathers",
         "Šárka Fenyková",
         "True"
        ],
        [
         "38",
         "https://www.albatrosmedia.eu/book/all-that-floats-with-or-without-fins/",
         "Tomáš Pernický",
         "6-8",
         "Size 270 x 380 mm | 48 pages | hardbinding",
         "Italian, French, Simplified Chinese, Thai, German",
         "In Motion\nI swim, you swim, we all swim! That’s what the people, animals, plants and things on every page of this book say, because it’s nothing other than a book about swimming and floating. \nIt’s as clear as day that fish and mermaids are good swimmers, but what about hedgehogs and bats? Take a look with us at who and what is a great swimmer, and how they do it. This fun book is filled with water and sea salt, and every now and then a great wave comes along—and it’s all ready for you to explore. Pull up your sleeves, limber up and take the plunge! As you swim along, you’ll see lovely pictures, and your strokes will get better and better. So, which do you want to start with? Crawl or breaststroke?",
         "All that Floats with or without Fins",
         "Štěpánka Sekaninová",
         "True"
        ],
        [
         "39",
         "https://www.albatrosmedia.eu/book/all-that-spins-rolls-with-or-without-wheels/",
         "Tomáš Pernický",
         "6-8",
         "Size 270 x 380 mm | 48 pages | hardbinding",
         "Not found",
         "“And yet it moves!” said Galileo Galilei, stunning everyone! Earth spins, even though it has no wheels. And it’s not the only thing in the world that does so—there are many more… perhaps more than you can think of at the moment. So delve into this book! \nIn Motion\nJust about anyone knows that scooter or motorcycle wheels spin. Stars and planets? Well, okay, some might know about those too. But did you know that dogs spin while chasing their tails when bored, or that sunflowers turn towards the sun each morning? Even we, people, spin although we have no idea we’re doing it. And can you twirl spaghetti onto a fork or spin a cowboy’s lasso? How about some pizza dough? What else spins and rolls around you?",
         "All that Spins & Rolls with or without Wheels",
         "Šárka Fenyková;Jana Sedláčková;Štěpánka Sekaninová",
         "True"
        ],
        [
         "40",
         "https://www.albatrosmedia.eu/book/alliace-of-the-brave/",
         "Jiří Franta",
         "9-12",
         "Size 215 × 280 mm, 68 pages, hardcover",
         "Not found",
         "Seventh-grader Thomas Malcolm is a hero in his favorite computer game but struggles in real life—especially with bullies constantly on his case.\nWhen the boundaries between his digital world and reality blur, he faces challenges unlike any he’s encountered before. As he searches for the mysterious Creator and fights to survive, he also discovers new strengths within himself. Can he change his fate in both worlds? This gripping story, told through a mix of text and comic-style illustrations, is perfect for gamers, adventure lovers, and anyone who has ever wished life worked like a video game.",
         "Alliance of the Brave",
         "Ester Stará",
         "True"
        ],
        [
         "41",
         "https://www.albatrosmedia.eu/book/amazing-animals-of-the-world/",
         "Zuzana Dreadka Krutá",
         "6-8",
         "Size 240 x 240 mm, 64 pages, hardcover",
         "Bulgarian, English, French, Italian, Russian, Simplified Chinese, Spanish, Turkish",
         "Allow our book to present to you all these and many more marvellous creatures, large and small, from all over the world. Take a seat, make yourself comfortable, turn the page, draw aside the curtain – and let the show begin!\nWorld of Amazement\nBoys and girls, ladies and gentlemen, roll up, roll up! You will hear things you have never heard before, and you will see things you have never before seen – like a frog with a handsome moustache, a butterfly that looks like a bird, a fish with its own light, a three-eyed lizard.",
         "Amazing Animals of the World",
         "Jana Nová;Sabina Konečná",
         "True"
        ],
        [
         "42",
         "https://www.albatrosmedia.eu/book/amazing-domestic-animals/",
         "Radka Martincová",
         "6-8",
         "Size 215 x 280 mm, 64 pages, hardcover",
         "Not found",
         "Did you know that sows sing lullabies, bees dance, and chickens are related to dinosaurs? This captivating book uncovers the hidden world of domestic animals—their friendships, instincts, and longing for the wild—revealing just how extraordinary our everyday animal companions truly are.\n• Secret Lives of Animals: Discover surprising behaviors, from singing pigs to dancing bees, with a hint of dinosaur history.\n• Fun and Fascinating: Enjoy quirky facts and heartwarming stories that showcase animal intelligence and charm.\n• Bonds of Love and Loyalty: Explore the deep friendships animals form with each other and their human companions.\nSecrets, Surprises, and the Wild Hearts of Our Animal Friends",
         "Amazing Domestic Animals",
         "Ester Dobiášová",
         "True"
        ],
        [
         "43",
         "https://www.albatrosmedia.eu/book/amazing-objecst-of-the-world/",
         "Zuzana Dreadka Krutá",
         "6-8",
         "Size 240 x 240 mm, 64 pages, hardcover",
         "Simplified Chinese, Spanish, Turkish",
         "Are you hungry? Then let me heat you something up in the microwave. It will take a while, though – it is over 70 years old. Would you like to watch TV while you wait? I recommend an old rerun – it looks really good in black and white. Grandpa is in his workshop fixing the lawnmower. He could buy a new one, but as this one has been working for 150 years, why change it? But enough of my talk. Why don’t you run along and take a look at all these things?\nWorld of Amazement\nWelcome, grandkids! How Grandpa and I have looked forward to your inquiring little minds! As ever, we have been waiting to show you some weird and wonderful devices and inventions, which we have collected over many years.",
         "Amazing Objects of the World",
         "Štěpánka Sekaninová",
         "True"
        ],
        [
         "44",
         "https://www.albatrosmedia.eu/book/amazing-plants-of-the-world/",
         "Zuzana Dreadka Krutá",
         "6-8",
         "Size 240 x 240 mm, 64 pages, hardcover",
         "Bulgarian, English, French, Simplified Chinese, Turkish",
         "He does not seem interested in people, as he feels himself to be a plant rather than a member of the genus homo sapiens. Strange as it may seem to you, maybe even scary like everything unknown, please, rest assured that he is completely harmless just as plants are. Of course, if you’re not a fly or a beetle that carnivorous plants enjoy so much to savour. No worries, those meat lovers might possibly snatch at your snack if you have ham and roll or a sausage in your bag but that is the worst harm they might do. Though some of the plants from this forgotten botanical garden look like predators at first sight, even spooky, they are still just plants that may never catch you. Enough talking, keep your hats on and our tour of the botanical garden starts. Let’s enter…\nWorld of Amazement\nWelcome to botanical garden where human feet have not trodden for years. Actually, one has, or rather a pair of them have. They belong to a passionate botanist who spends all his time in the company of flowers. ",
         "Amazing Plants of the World",
         "Štěpánka Sekaninová",
         "True"
        ],
        [
         "45",
         "https://www.albatrosmedia.eu/book/ambulance-how-may-we-help/",
         "Jan Šrámek",
         "3-5",
         "Size 200 x 168 mm, 5 spreads with 5 sound effects, board book",
         "Not found",
         "Soundbooks\nWhile Dad calls for an ambulance to help the injured woman, Tom scolds Ben. Then the three of them watch the paramedics at work. Although they don’t want to cause a delay, they do get a look inside the ambulance, and find out what goes beep inside.\nHello? Please help, there’s been an accident. Tom and his dad are walking Ben when the naughty dog gets caught up with a cyclist.",
         "Ambulance: How May We Help?",
         "Eva Mrázková",
         "True"
        ],
        [
         "46",
         "https://www.albatrosmedia.eu/book/an-advent-calendar-of-fairy-tales/",
         "Tereza Konupčíková",
         "3-5",
         "Box size 533 x 377 mm (open 533 x 764 mm), 1 box + 24 booklets + polybag + 2 ribbons, booklet size 100 x 110 mm, each booklet, 12 pages",
         "Croatian, Portuguese, Romanian",
         "Twenty-four December evenings till Christmas. Twenty-four fairy tales from around the world for the very young and some a little older… So many wonderful characters, so many princesses and animals, all of them waiting for you! \nYou will find Little Red Riding Hood and the wolf, Snow White and the dwarfs, the Doughnut, Masha and the Three Bears, and the Three Little Pigs. But where? Once you have read all the stories, follow the instructions to thread them together with two ribbons to make your very own book of fairy tales for your bookshelf. And how about breathing new life into this folder by adding things to it? Your own fairy-tale drawings, for instance.",
         "An Advent Calendar of Fairy Tales",
         "Šárka Krejčová",
         "True"
        ],
        [
         "47",
         "https://www.albatrosmedia.eu/book/an-atlas-of-incredible-islands-real-stories-of-unreal-lands/",
         "Adam Wolf",
         "9-12",
         "Size 240 x 320 mm, 64 pages, hardcover",
         "Not found",
         "Some islands appear on ancient maps but vanished without a trace. Others were dreamed up by storytellers, yet people still search for them today. Set sail on an extraordinary journey to discover the mythical lands of Atlantis, Buyan, and more—and decide for yourself if they ever truly existed.\nLost Islands, Wild Legends, and the Maps That Sparked Our Imaginations\n• Clear division: Islands mythical and mythological, literary islands, phantom islands.\n• Education: Develop imagination, spark interest in reading and research.\n• Fortify Imagination: Interconnection of legends and engaging stories to our today´s life.\n• Search for context: Introduction into mythology, geography, history, literature through testimony of ancient philosophers, travelers, explorers, seafarers, writers.",
         "An Atlas of Incredible Islands: Real stories of unreal lands",
         "Radek Malý",
         "True"
        ],
        [
         "48",
         "https://www.albatrosmedia.eu/book/an-encyclopaedia-of-extinct-animals/",
         "Pavel Dvorský;Jiří Grbavčic",
         "9-12",
         "Size 230 x 330 mm, 88/96 pages, hardcover",
         "English, Hungarian, Japanese, Korean, Russian Vietnamese",
         "In this book, award-winning poet Radek Malý sheds light on this alarming fact by telling the stories of selected extinct species and studying the causes of their sad demise. The large-format Atlas of Extinct Animals is supplemented with beautifully expressive full-page illustrations by gifted artist Jiří Grbavčic and detailed pictures by renowned scientific illustrator Pavel Dvorský. By losing yourself in this book, you will bring back to life all 41 of its heroes. Give the fate of the Blue Planet some serious thought. It is in your hands.\n\nRead the review here.\n“And they all lived happily ever after”. The fairy-tale adage applies to none of the 41 creatures introduced in this atlas. Mammoth, dodo, and Neanderthal man: all extinct.“ White Ravens review\n \nLarge Encyclopedias of Animals\nHumanity is currently living through the sixth mass extinction event in Earth’s history. As well impacting on the environment and the evolution of the planet, the dying out of animal species may affect us, too – our proud claim to be lords of creation notwithstanding. ",
         "Atlas of Extinct Animals",
         "Radek Malý",
         "True"
        ],
        [
         "49",
         "https://www.albatrosmedia.eu/book/an-explanatory-dictionary/",
         "Michaela Casková",
         "3-5",
         "Size 233 × 187 mm, 96 pages, hardcover",
         "Not found",
         "What do words like home, snow, or teddy bear really mean to a child?\nThis beautifully illustrated dictionary explores childhood through simple words, each paired with a poetic definition that captures its emotional depth. Some entries spark nostalgia, others invite reflection, but all encourage children and adults to see the ordinary in a new light. With every page, readers uncover the beauty of language, memory, and the little moments that shape us.",
         "An Explanatory Dictionary",
         "Olga Stehlíková",
         "True"
        ]
       ],
       "shape": {
        "columns": 9,
        "rows": 600
       }
      },
      "text/html": [
       "<div>\n",
       "<style scoped>\n",
       "    .dataframe tbody tr th:only-of-type {\n",
       "        vertical-align: middle;\n",
       "    }\n",
       "\n",
       "    .dataframe tbody tr th {\n",
       "        vertical-align: top;\n",
       "    }\n",
       "\n",
       "    .dataframe thead th {\n",
       "        text-align: right;\n",
       "    }\n",
       "</style>\n",
       "<table border=\"1\" class=\"dataframe\">\n",
       "  <thead>\n",
       "    <tr style=\"text-align: right;\">\n",
       "      <th></th>\n",
       "      <th>URL</th>\n",
       "      <th>Illustrators Scraped</th>\n",
       "      <th>Age</th>\n",
       "      <th>Book Parametes</th>\n",
       "      <th>Sold To</th>\n",
       "      <th>Description</th>\n",
       "      <th>Book Name</th>\n",
       "      <th>Authors Scraped</th>\n",
       "      <th>Scraping</th>\n",
       "    </tr>\n",
       "  </thead>\n",
       "  <tbody>\n",
       "    <tr>\n",
       "      <th>0</th>\n",
       "      <td>https://www.albatrosmedia.eu/book/216_on-the-f...</td>\n",
       "      <td>Sharon Harmer</td>\n",
       "      <td>3-5</td>\n",
       "      <td>Size 230 x 245 mm | 14 pages | hardbinding</td>\n",
       "      <td>Not found</td>\n",
       "      <td>Read &amp; Learn books are fun, educational storie...</td>\n",
       "      <td>On the Farm</td>\n",
       "      <td>Joli Hannah</td>\n",
       "      <td>True</td>\n",
       "    </tr>\n",
       "    <tr>\n",
       "      <th>1</th>\n",
       "      <td>https://www.albatrosmedia.eu/book/244_life-at-...</td>\n",
       "      <td>David J. Plant</td>\n",
       "      <td>3-5</td>\n",
       "      <td>Size 230 x 230 mm, 6 shaped spreads, board book</td>\n",
       "      <td>French</td>\n",
       "      <td>Life at…\\nAccording to some stories, mills are...</td>\n",
       "      <td>Life at the Mill</td>\n",
       "      <td>Ondřej Navrátil</td>\n",
       "      <td>True</td>\n",
       "    </tr>\n",
       "    <tr>\n",
       "      <th>2</th>\n",
       "      <td>https://www.albatrosmedia.eu/book/a-big-book-o...</td>\n",
       "      <td>Katia Gaigalova</td>\n",
       "      <td>3-5</td>\n",
       "      <td>Size 230 x2 80 mm | 40 pages | hardbinding</td>\n",
       "      <td>Catalan, Spanish, Italian, Serbian, English, S...</td>\n",
       "      <td>Well, on opening this book, you will discover ...</td>\n",
       "      <td>A Big Book of Opposites</td>\n",
       "      <td>Magda N. Garguláková</td>\n",
       "      <td>True</td>\n",
       "    </tr>\n",
       "    <tr>\n",
       "      <th>3</th>\n",
       "      <td>https://www.albatrosmedia.eu/book/a-big-book-o...</td>\n",
       "      <td>Anastasia Stročkova</td>\n",
       "      <td>6-8</td>\n",
       "      <td>Size 215 x 280 mm, 24 pages + 10 fold-outs, ha...</td>\n",
       "      <td>Catalan, Simplified Chinese, Spanish</td>\n",
       "      <td>Have you ever wondered what venom is, how it’s...</td>\n",
       "      <td>A Big Book of Poison</td>\n",
       "      <td>Šárka Fenyková</td>\n",
       "      <td>True</td>\n",
       "    </tr>\n",
       "    <tr>\n",
       "      <th>4</th>\n",
       "      <td>https://www.albatrosmedia.eu/book/a-big-book-o...</td>\n",
       "      <td>Niké Papadopulosová</td>\n",
       "      <td>6-8</td>\n",
       "      <td>Size 215 x 280 mm, 24 pages + 10 fold-outs, ha...</td>\n",
       "      <td>Russian, Simplified Chinese</td>\n",
       "      <td>How does snow form, and how many types of snow...</td>\n",
       "      <td>A Big Book of Snow and Ice</td>\n",
       "      <td>Štěpánka Sekaninová</td>\n",
       "      <td>True</td>\n",
       "    </tr>\n",
       "    <tr>\n",
       "      <th>...</th>\n",
       "      <td>...</td>\n",
       "      <td>...</td>\n",
       "      <td>...</td>\n",
       "      <td>...</td>\n",
       "      <td>...</td>\n",
       "      <td>...</td>\n",
       "      <td>...</td>\n",
       "      <td>...</td>\n",
       "      <td>...</td>\n",
       "    </tr>\n",
       "    <tr>\n",
       "      <th>595</th>\n",
       "      <td>https://www.albatrosmedia.eu/book/wonderful-th...</td>\n",
       "      <td>Adrián Macho</td>\n",
       "      <td>6-8</td>\n",
       "      <td>Size 240 x 214 mm | 32 pages | hardbinding</td>\n",
       "      <td>Bulgarian</td>\n",
       "      <td>Sometimes he thought up extraordinary, complet...</td>\n",
       "      <td>Wonderful Things Happen</td>\n",
       "      <td>Zuzana Štelbaská</td>\n",
       "      <td>True</td>\n",
       "    </tr>\n",
       "    <tr>\n",
       "      <th>596</th>\n",
       "      <td>https://www.albatrosmedia.eu/book/woodpecker-a...</td>\n",
       "      <td>Kristýna Šťastná</td>\n",
       "      <td>6-8</td>\n",
       "      <td>Size 170 x 297 mm | 48 pages | hardbinding</td>\n",
       "      <td>Not found</td>\n",
       "      <td>Because a weak voice in his head has told him ...</td>\n",
       "      <td>Woodpecker and Foreverdoubt</td>\n",
       "      <td>Daniel Rušar</td>\n",
       "      <td>True</td>\n",
       "    </tr>\n",
       "    <tr>\n",
       "      <th>597</th>\n",
       "      <td>https://www.albatrosmedia.eu/book/world-atlas/</td>\n",
       "      <td>Pavla Kleinová;Zuzana Selingerová;Zuzana Musil...</td>\n",
       "      <td>6-8</td>\n",
       "      <td>Size 230 × 260 mm, widespreaded 460 × 520 mm, ...</td>\n",
       "      <td>Bulgarian, Dutch, English, German, Greek, Kore...</td>\n",
       "      <td>World Atlas is intended for all young travelle...</td>\n",
       "      <td>World Atlas</td>\n",
       "      <td>Iva Šišperová;Oldřich Růžička</td>\n",
       "      <td>True</td>\n",
       "    </tr>\n",
       "    <tr>\n",
       "      <th>598</th>\n",
       "      <td>https://www.albatrosmedia.eu/book/world-full-o...</td>\n",
       "      <td>Lukáš Fibrich</td>\n",
       "      <td>9-12</td>\n",
       "      <td>Size 215 x 280 mm, 44 pages, hardcover</td>\n",
       "      <td>English, Italian, Simplified Chinese, Slovene,...</td>\n",
       "      <td>Planet Earth is a place of extreme temperature...</td>\n",
       "      <td>World Full of Extremes</td>\n",
       "      <td>Helena Haraštová</td>\n",
       "      <td>True</td>\n",
       "    </tr>\n",
       "    <tr>\n",
       "      <th>599</th>\n",
       "      <td>https://www.albatrosmedia.eu/book/world-of-ants/</td>\n",
       "      <td>Zuzana Dreadka Krutá</td>\n",
       "      <td>6-8</td>\n",
       "      <td>Size 240 x 280 mm, 40 pages, hardcover</td>\n",
       "      <td>English, French, Simplified Chinese, Slovene, ...</td>\n",
       "      <td>World of Insects\\nThe ant world is one of the ...</td>\n",
       "      <td>World of Ants</td>\n",
       "      <td>Štěpánka Sekaninová</td>\n",
       "      <td>True</td>\n",
       "    </tr>\n",
       "  </tbody>\n",
       "</table>\n",
       "<p>600 rows × 9 columns</p>\n",
       "</div>"
      ],
      "text/plain": [
       "                                                   URL  \\\n",
       "0    https://www.albatrosmedia.eu/book/216_on-the-f...   \n",
       "1    https://www.albatrosmedia.eu/book/244_life-at-...   \n",
       "2    https://www.albatrosmedia.eu/book/a-big-book-o...   \n",
       "3    https://www.albatrosmedia.eu/book/a-big-book-o...   \n",
       "4    https://www.albatrosmedia.eu/book/a-big-book-o...   \n",
       "..                                                 ...   \n",
       "595  https://www.albatrosmedia.eu/book/wonderful-th...   \n",
       "596  https://www.albatrosmedia.eu/book/woodpecker-a...   \n",
       "597     https://www.albatrosmedia.eu/book/world-atlas/   \n",
       "598  https://www.albatrosmedia.eu/book/world-full-o...   \n",
       "599   https://www.albatrosmedia.eu/book/world-of-ants/   \n",
       "\n",
       "                                  Illustrators Scraped   Age  \\\n",
       "0                                        Sharon Harmer   3-5   \n",
       "1                                       David J. Plant   3-5   \n",
       "2                                      Katia Gaigalova   3-5   \n",
       "3                                  Anastasia Stročkova   6-8   \n",
       "4                                  Niké Papadopulosová   6-8   \n",
       "..                                                 ...   ...   \n",
       "595                                       Adrián Macho   6-8   \n",
       "596                                   Kristýna Šťastná   6-8   \n",
       "597  Pavla Kleinová;Zuzana Selingerová;Zuzana Musil...   6-8   \n",
       "598                                      Lukáš Fibrich  9-12   \n",
       "599                               Zuzana Dreadka Krutá   6-8   \n",
       "\n",
       "                                        Book Parametes  \\\n",
       "0           Size 230 x 245 mm | 14 pages | hardbinding   \n",
       "1      Size 230 x 230 mm, 6 shaped spreads, board book   \n",
       "2           Size 230 x2 80 mm | 40 pages | hardbinding   \n",
       "3    Size 215 x 280 mm, 24 pages + 10 fold-outs, ha...   \n",
       "4    Size 215 x 280 mm, 24 pages + 10 fold-outs, ha...   \n",
       "..                                                 ...   \n",
       "595         Size 240 x 214 mm | 32 pages | hardbinding   \n",
       "596         Size 170 x 297 mm | 48 pages | hardbinding   \n",
       "597  Size 230 × 260 mm, widespreaded 460 × 520 mm, ...   \n",
       "598             Size 215 x 280 mm, 44 pages, hardcover   \n",
       "599             Size 240 x 280 mm, 40 pages, hardcover   \n",
       "\n",
       "                                               Sold To  \\\n",
       "0                                            Not found   \n",
       "1                                               French   \n",
       "2    Catalan, Spanish, Italian, Serbian, English, S...   \n",
       "3                 Catalan, Simplified Chinese, Spanish   \n",
       "4                          Russian, Simplified Chinese   \n",
       "..                                                 ...   \n",
       "595                                          Bulgarian   \n",
       "596                                          Not found   \n",
       "597  Bulgarian, Dutch, English, German, Greek, Kore...   \n",
       "598  English, Italian, Simplified Chinese, Slovene,...   \n",
       "599  English, French, Simplified Chinese, Slovene, ...   \n",
       "\n",
       "                                           Description  \\\n",
       "0    Read & Learn books are fun, educational storie...   \n",
       "1    Life at…\\nAccording to some stories, mills are...   \n",
       "2    Well, on opening this book, you will discover ...   \n",
       "3    Have you ever wondered what venom is, how it’s...   \n",
       "4    How does snow form, and how many types of snow...   \n",
       "..                                                 ...   \n",
       "595  Sometimes he thought up extraordinary, complet...   \n",
       "596  Because a weak voice in his head has told him ...   \n",
       "597  World Atlas is intended for all young travelle...   \n",
       "598  Planet Earth is a place of extreme temperature...   \n",
       "599  World of Insects\\nThe ant world is one of the ...   \n",
       "\n",
       "                       Book Name                Authors Scraped  Scraping  \n",
       "0                    On the Farm                    Joli Hannah      True  \n",
       "1               Life at the Mill                Ondřej Navrátil      True  \n",
       "2        A Big Book of Opposites           Magda N. Garguláková      True  \n",
       "3           A Big Book of Poison                 Šárka Fenyková      True  \n",
       "4     A Big Book of Snow and Ice            Štěpánka Sekaninová      True  \n",
       "..                           ...                            ...       ...  \n",
       "595      Wonderful Things Happen               Zuzana Štelbaská      True  \n",
       "596  Woodpecker and Foreverdoubt                   Daniel Rušar      True  \n",
       "597                  World Atlas  Iva Šišperová;Oldřich Růžička      True  \n",
       "598       World Full of Extremes               Helena Haraštová      True  \n",
       "599                World of Ants            Štěpánka Sekaninová      True  \n",
       "\n",
       "[600 rows x 9 columns]"
      ]
     },
     "execution_count": 21,
     "metadata": {},
     "output_type": "execute_result"
    }
   ],
   "source": [
    "podklady_albatros = pd.read_excel('excel tables/podklady Albatros CRM.xlsx', sheet_name = 'knihy detail')\n",
    "podklady_albatros['Albatros'] = [True] * len(podklady_albatros)\n",
    "scraping = pd.read_excel('excel tables/Scraped Data categories.xlsx')\n",
    "scraping['Scraping'] = [True] * len(scraping)\n",
    "scraping = scraping.rename(columns={\"title\": \"Book Name\", 'category':'Category', 'url':'URL', \n",
    "                                    'illustrators': 'Illustrators Scraped', 'ages':'Age',\n",
    "                                    'book parametes': 'Book Parametes', 'sold to': 'Sold To', \n",
    "                                    'description': 'Description', 'writers': 'Authors Scraped'})\n",
    "scraping.drop(['Unnamed: 0'], axis=1)\n",
    "\n",
    "scraping_w_o_c = pd.read_excel('excel tables/Scraped Data without categories.xlsx')\n",
    "scraping_w_o_c['Scraping'] = [True] * len(scraping_w_o_c)\n",
    "scraping_w_o_c = scraping_w_o_c.rename(columns={\"title\": \"Book Name\", 'category':'Category', 'url':'URL', \n",
    "                                    'illustrators': 'Illustrators Scraped', 'ages':'Age',\n",
    "                                    'book parametes': 'Book Parametes', 'sold to': 'Sold To', \n",
    "                                    'description': 'Description', 'writers': 'Authors Scraped'})\n",
    "scraping_w_o_c.drop(['Unnamed: 0'], axis=1)\n",
    "\n"
   ]
  },
  {
   "cell_type": "markdown",
   "metadata": {},
   "source": [
    "#### Scraping from AlbatrosBook.com"
   ]
  },
  {
   "cell_type": "code",
   "execution_count": 22,
   "metadata": {},
   "outputs": [],
   "source": [
    "scraping2 = pd.read_excel('excel tables/Scraped Data2.xlsx')\n",
    "scraping2['Scraping2'] = [True] * len(scraping2)\n",
    "scraping2.drop(['sold to'], axis=1)\n",
    "updates_marc = pd.read_excel('excel tables/changes_in_marc.xlsx')\n",
    "new_values = updates_marc.Values.apply(lambda x: (x.split('->')[0].strip() , x.split('->')[1].strip()) if '->' in x else ( 0 , 0 ))\n",
    "new_values = {key: value for key, value in new_values}\n",
    "new_values.pop(0, None)\n",
    "scraping2['Book Name AlbatrosBook Original'] = list(scraping2['title']) \n",
    "for k, v in new_values.items():\n",
    "    scraping2.loc[ scraping2['title'] == k  ,'title'] = v \n",
    "scraping2 = scraping2.rename(columns={\"title\": \"Book Name\", 'category':'Category AlbatrosBook', 'url':'URL AlbatrosBook', \n",
    "                                    'illustrators': 'Illustrators Scraped AlbatrosBook', 'ages':'Age AlbatrosBook',\n",
    "                                    'book parametes': 'Book Parametes AlbatrosBook',\n",
    "                                    'description': 'Description AlbatrosBook', 'writers': 'Authors Scraped Albatros Book'})\n",
    "\n"
   ]
  },
  {
   "cell_type": "markdown",
   "metadata": {},
   "source": [
    "#### Update scraping table"
   ]
  },
  {
   "cell_type": "code",
   "execution_count": 23,
   "metadata": {},
   "outputs": [],
   "source": [
    "updates = pd.read_excel('excel tables/changes_in_datasets.xlsx')\n",
    "new_values = updates.Values.apply(lambda x: (x.split('->')[0].strip() , x.split('->')[1].strip()) if '->' in x else ( 0 , 0 ))\n",
    "new_values = {key: value for key, value in new_values}\n",
    "new_values.pop(0, None)\n",
    "scraping['Book Name Scraping Original'] = list(scraping['Book Name']) \n",
    "for k, v in new_values.items():\n",
    "    scraping.loc[ scraping['Book Name'] == k ,'Book Name'] = v\n",
    "\n",
    "scraping_w_o_c['Book Name Scraping Original'] = list(scraping_w_o_c['Book Name']) \n",
    "for k, v in new_values.items():\n",
    "    scraping_w_o_c.loc[ scraping_w_o_c['Book Name'] == k ,'Book Name'] = v    "
   ]
  },
  {
   "cell_type": "markdown",
   "metadata": {},
   "source": [
    "#### Combine Scraping with and without categories"
   ]
  },
  {
   "cell_type": "code",
   "execution_count": 26,
   "metadata": {},
   "outputs": [],
   "source": [
    "scraping = pd.merge(scraping_w_o_c, scraping[['URL', 'Category']], how=\"left\", on=\"URL\")\n",
    "scraping.to_excel('excel tables/Scraped Data AlbatrosMedia.eu.xlsx')"
   ]
  },
  {
   "cell_type": "markdown",
   "metadata": {},
   "source": [
    "#### Sold licences"
   ]
  },
  {
   "cell_type": "code",
   "execution_count": 27,
   "metadata": {},
   "outputs": [],
   "source": [
    "licences = pd.read_excel('excel tables/podklady Albatros CRM.xlsx', sheet_name='prodane licence')\n",
    "licences = licences.drop(columns = ['Valid from Date', 'Valid till Date', 'License: License Code'])\n",
    "licences =licences.drop_duplicates()\n",
    "licences = licences.groupby(['Book'], as_index=False).agg({\n",
    "    'Languages': list, \n",
    "    'Account: Account Name': list,  \n",
    "    'Territory': list\n",
    "})\n",
    "licences['Sold Licence'] = True\n",
    "licences = licences.rename(columns={\"Book\": \"Book Name\"})"
   ]
  },
  {
   "cell_type": "markdown",
   "metadata": {},
   "source": [
    "#### Combine"
   ]
  },
  {
   "cell_type": "markdown",
   "metadata": {},
   "source": [
    "#### Only CRM and scraping "
   ]
  },
  {
   "cell_type": "code",
   "execution_count": 28,
   "metadata": {},
   "outputs": [],
   "source": [
    "df = pd.merge(podklady_albatros, licences, how=\"outer\", on=\"Book Name\")\n",
    "df = pd.merge(df, scraping, how=\"outer\", on=\"Book Name\")\n",
    "df = df.drop(['Unnamed: 0'], axis=1) \n",
    "df.Albatros = df.Albatros.apply(lambda x: x if x else False)\n",
    "df.Scraping = df.Scraping.apply(lambda x: x if x else False)\n",
    "df.to_excel('excel tables/Přehled Albatros a Scraping AlbatrosMedia.eu.xlsx')"
   ]
  },
  {
   "cell_type": "markdown",
   "metadata": {},
   "source": [
    "#### Add marc"
   ]
  },
  {
   "cell_type": "code",
   "execution_count": 41,
   "metadata": {},
   "outputs": [],
   "source": [
    "df_b4u = pd.read_excel('excel tables/B4U Marc.xlsx') \n",
    "updates_marc = pd.read_excel('excel tables/changes_in_marc.xlsx')\n",
    "new_values = updates_marc.Values.apply(lambda x: (x.split('->')[0].strip() , x.split('->')[1].strip()) if '->' in x else ( 0 , 0 ))\n",
    "new_values = {key: value for key, value in new_values}\n",
    "new_values.pop(0, None)\n",
    "df_b4u['Book Name NK Original'] = list(df_b4u['Book Name']) \n",
    "for k, v in new_values.items():\n",
    "    df_b4u.loc[ df_b4u['Book Name'] == k  ,'Book Name'] = v "
   ]
  },
  {
   "cell_type": "code",
   "execution_count": 45,
   "metadata": {},
   "outputs": [
    {
     "name": "stdout",
     "output_type": "stream",
     "text": [
      "Index(['key_0', 'Unnamed: 0_x', 'Category AlbatrosBook', 'URL AlbatrosBook',\n",
      "       'Illustrators Scraped AlbatrosBook', 'Age AlbatrosBook',\n",
      "       'Book Parametes AlbatrosBook', 'sold to', 'Description AlbatrosBook',\n",
      "       'Book Name_x', 'Authors Scraped Albatros Book', 'Scraping2',\n",
      "       'Book Name AlbatrosBook Original', 'Unnamed: 0_y', 'Book Name_y',\n",
      "       'Author NK', 'Illustrator NK', 'Pages', 'Publication Year',\n",
      "       'Original Language', 'Text Language', 'B4U NK',\n",
      "       'Book Name NK Original'],\n",
      "      dtype='object')\n",
      "Index(['key_0', 'Unnamed: 0', 'Book Name_x', 'Series: Series Name', 'Series',\n",
      "       'Perex', 'PDF URL', 'Author', 'Picture URL', 'YouTube URL',\n",
      "       'Book: Created Date', 'Albatros', 'Languages', 'Account: Account Name',\n",
      "       'Territory', 'Sold Licence', 'Unnamed: 0.1', 'Category', 'URL',\n",
      "       'Illustrators Scraped', 'Age', 'Book Parametes', 'Sold To',\n",
      "       'Description', 'Authors Scraped', 'Scraping',\n",
      "       'Book Name Scraping Original', 'Unnamed: 0_x', 'Category AlbatrosBook',\n",
      "       'URL AlbatrosBook', 'Illustrators Scraped AlbatrosBook',\n",
      "       'Age AlbatrosBook', 'Book Parametes AlbatrosBook', 'sold to',\n",
      "       'Description AlbatrosBook', 'Book Name_y',\n",
      "       'Authors Scraped Albatros Book', 'Scraping2',\n",
      "       'Book Name AlbatrosBook Original', 'Unnamed: 0_y',\n",
      "       'Book Name AlbatrosBooks', 'Author NK', 'Illustrator NK', 'Pages',\n",
      "       'Publication Year', 'Original Language', 'Text Language', 'B4U NK',\n",
      "       'Book Name NK Original'],\n",
      "      dtype='object')\n"
     ]
    }
   ],
   "source": [
    "df = pd.read_excel('excel tables/Přehled Albatros a Scraping.xlsx')\n",
    "df.Scraping = df.Scraping.apply(lambda x: True if x == 1 else None)\n",
    "df.Albatros = df.Albatros.apply(lambda x: True if x == 1 else None)\n",
    "df['Sold Licence'] = df['Sold Licence'].apply(lambda x: True if x == 1 else None) \n",
    "\n",
    "df2 = pd.merge(scraping2,df_b4u, how=\"outer\", left_on=scraping2[\"Book Name\"].str.lower().replace('\\'', '\\'').replace('?', '').replace(',', '').replace('&', 'and'), right_on=df_b4u[\"Book Name\"].str.lower().replace('\\'', '\\'').replace('?', '').replace(',', '').replace('&', 'and'))\n",
    "print(df2.columns)\n",
    "df2 = df2.drop(['key_0'], axis=1)\n",
    "df2 = df2.rename(columns={\"Book Name_x\": \"Book Name\", 'Book Name_y':'Book Name AlbatrosBooks'})\n",
    "\n",
    "df = pd.merge(df, df2, how=\"outer\", left_on=df[\"Book Name\"].str.lower().replace('\\'', '\\'').replace('?', '').replace(',', '').replace('&', 'and'), right_on=df2[\"Book Name\"].str.lower().replace('\\'', '\\'').replace('?', '').replace(',', '').replace('&', 'and'))\n",
    "print(df.columns)\n",
    "df = df.drop(['key_0', 'Unnamed: 0_x', 'Unnamed: 0.1', 'Unnamed: 0_y'], axis=1)\n",
    "df = df.rename(columns={\"Book Name_x\": \"Book Name\", 'Book Name_y':'Book Name NK'})\n",
    "df.to_excel('excel tables/Přehled vše2.xlsx')"
   ]
  },
  {
   "cell_type": "code",
   "execution_count": 36,
   "metadata": {},
   "outputs": [
    {
     "data": {
      "application/vnd.microsoft.datawrangler.viewer.v0+json": {
       "columns": [
        {
         "name": "index",
         "rawType": "int64",
         "type": "integer"
        },
        {
         "name": "Book Name",
         "rawType": "object",
         "type": "string"
        },
        {
         "name": "Book Name",
         "rawType": "object",
         "type": "unknown"
        }
       ],
       "conversionMethod": "pd.DataFrame",
       "ref": "4916beee-31b4-4082-87b5-7e7b092c0f62",
       "rows": [
        [
         "0",
         "A Big Juicy Earthworm",
         null
        ],
        [
         "1",
         "Amazing Animals of the World",
         null
        ],
        [
         "2",
         "Amazing Plants of the World",
         null
        ],
        [
         "3",
         "Atlas of Extinct Animals",
         null
        ],
        [
         "4",
         "Ancient Egypt for Kids",
         null
        ],
        [
         "5",
         "Ancient Greece for Kids",
         null
        ],
        [
         "6",
         "Ancient Rome for Kids",
         null
        ],
        [
         "7",
         "Animals Helpers",
         null
        ],
        [
         "8",
         "Así soy yo",
         null
        ],
        [
         "9",
         "Atlas of Cats",
         null
        ],
        [
         "10",
         "Atlas of Dogs",
         null
        ],
        [
         "11",
         "Atlas of Prehistoric Animals",
         null
        ],
        [
         "12",
         "Atlas of Endangered Animals",
         null
        ],
        [
         "13",
         "Bella and the Lost Ball",
         null
        ],
        [
         "14",
         "Big or Small?",
         null
        ],
        [
         "15",
         "Bustling Cities of the World",
         null
        ],
        [
         "16",
         "Cats Are Great BUT",
         null
        ],
        [
         "17",
         "Childhoods of Famous People",
         null
        ],
        [
         "18",
         "How Kids Celebrate Christmas Around the World",
         null
        ],
        [
         "19",
         "Colors of Habitats",
         null
        ],
        [
         "20",
         "Diary of a Bee",
         null
        ],
        [
         "21",
         "Discovering the Underground with Snow White",
         null
        ],
        [
         "22",
         "Do Fish Go Fishing? How Animals Eat",
         null
        ],
        [
         "23",
         "Do Sheep Count Sheep? How Animals Sleep",
         null
        ],
        [
         "24",
         "Dogs Are Great BUT",
         null
        ],
        [
         "25",
         "Encyclopedia of Animals: for Young Readers",
         null
        ],
        [
         "26",
         "Encyclopedia of Birds: for Young Readers",
         null
        ],
        [
         "27",
         "Encyclopedia of Ordinary Living",
         null
        ],
        [
         "28",
         "Encyclopedia of Ordinary Things",
         null
        ],
        [
         "29",
         "Encyclopedia of Plants, Fungi, and Lichens: for Young Readers",
         null
        ],
        [
         "30",
         "Encyclopedia of Undersea Life for Young Readers",
         null
        ],
        [
         "31",
         "Family and Feelings",
         null
        ],
        [
         "32",
         "Famous Finds and Finders: Searching for the Past",
         null
        ],
        [
         "33",
         "Forests of the World",
         null
        ],
        [
         "34",
         "Friends and Feelings",
         null
        ],
        [
         "35",
         "From Pyramids to Palaces: Architecture around the World",
         null
        ],
        [
         "36",
         "Fruits and Vegetables",
         null
        ],
        [
         "37",
         "Grandad’s Pink Trousers",
         null
        ],
        [
         "38",
         "Hansel and Gretel",
         null
        ],
        [
         "39",
         "Healthy as a Dragon!",
         null
        ],
        [
         "40",
         "Henry the Snail",
         null
        ],
        [
         "41",
         "Hide and Seek in Nature: Guess What It Is",
         null
        ],
        [
         "42",
         "Hiking 101: Tips and Advice for Little Campers",
         null
        ],
        [
         "43",
         "How Kids Celebrate Holidays Around the World",
         null
        ],
        [
         "44",
         "How Kids Live Around the World",
         null
        ],
        [
         "45",
         "How Do Animals See?",
         null
        ],
        [
         "46",
         "How Kids Play Around the World",
         null
        ],
        [
         "47",
         "How Not to Kill Your Plant",
         null
        ],
        [
         "48",
         "How Plants Talk",
         null
        ],
        [
         "49",
         "How the New Seven Wonders of the World Were Built",
         null
        ]
       ],
       "shape": {
        "columns": 2,
        "rows": 133
       }
      },
      "text/html": [
       "<div>\n",
       "<style scoped>\n",
       "    .dataframe tbody tr th:only-of-type {\n",
       "        vertical-align: middle;\n",
       "    }\n",
       "\n",
       "    .dataframe tbody tr th {\n",
       "        vertical-align: top;\n",
       "    }\n",
       "\n",
       "    .dataframe thead th {\n",
       "        text-align: right;\n",
       "    }\n",
       "</style>\n",
       "<table border=\"1\" class=\"dataframe\">\n",
       "  <thead>\n",
       "    <tr style=\"text-align: right;\">\n",
       "      <th></th>\n",
       "      <th>Book Name</th>\n",
       "      <th>Book Name</th>\n",
       "    </tr>\n",
       "  </thead>\n",
       "  <tbody>\n",
       "    <tr>\n",
       "      <th>0</th>\n",
       "      <td>A Big Juicy Earthworm</td>\n",
       "      <td>NaN</td>\n",
       "    </tr>\n",
       "    <tr>\n",
       "      <th>1</th>\n",
       "      <td>Amazing Animals of the World</td>\n",
       "      <td>NaN</td>\n",
       "    </tr>\n",
       "    <tr>\n",
       "      <th>2</th>\n",
       "      <td>Amazing Plants of the World</td>\n",
       "      <td>NaN</td>\n",
       "    </tr>\n",
       "    <tr>\n",
       "      <th>3</th>\n",
       "      <td>Atlas of Extinct Animals</td>\n",
       "      <td>NaN</td>\n",
       "    </tr>\n",
       "    <tr>\n",
       "      <th>4</th>\n",
       "      <td>Ancient Egypt for Kids</td>\n",
       "      <td>NaN</td>\n",
       "    </tr>\n",
       "    <tr>\n",
       "      <th>...</th>\n",
       "      <td>...</td>\n",
       "      <td>...</td>\n",
       "    </tr>\n",
       "    <tr>\n",
       "      <th>128</th>\n",
       "      <td>Whose Track Is It?</td>\n",
       "      <td>NaN</td>\n",
       "    </tr>\n",
       "    <tr>\n",
       "      <th>129</th>\n",
       "      <td>Animal Adaptations: Unique Body Parts</td>\n",
       "      <td>NaN</td>\n",
       "    </tr>\n",
       "    <tr>\n",
       "      <th>130</th>\n",
       "      <td>Animal Adaptations: Extreme Conditions</td>\n",
       "      <td>NaN</td>\n",
       "    </tr>\n",
       "    <tr>\n",
       "      <th>131</th>\n",
       "      <td>Words About Where: Let’s Learn Prepositions</td>\n",
       "      <td>NaN</td>\n",
       "    </tr>\n",
       "    <tr>\n",
       "      <th>132</th>\n",
       "      <td>World of Extreme Adventures</td>\n",
       "      <td>NaN</td>\n",
       "    </tr>\n",
       "  </tbody>\n",
       "</table>\n",
       "<p>133 rows × 2 columns</p>\n",
       "</div>"
      ],
      "text/plain": [
       "                                       Book Name Book Name\n",
       "0                          A Big Juicy Earthworm       NaN\n",
       "1                   Amazing Animals of the World       NaN\n",
       "2                    Amazing Plants of the World       NaN\n",
       "3                       Atlas of Extinct Animals       NaN\n",
       "4                         Ancient Egypt for Kids       NaN\n",
       "..                                           ...       ...\n",
       "128                           Whose Track Is It?       NaN\n",
       "129        Animal Adaptations: Unique Body Parts       NaN\n",
       "130       Animal Adaptations: Extreme Conditions       NaN\n",
       "131  Words About Where: Let’s Learn Prepositions       NaN\n",
       "132                  World of Extreme Adventures       NaN\n",
       "\n",
       "[133 rows x 2 columns]"
      ]
     },
     "execution_count": 36,
     "metadata": {},
     "output_type": "execute_result"
    }
   ],
   "source": [
    "scraping2[\"Book Name\"]"
   ]
  }
 ],
 "metadata": {
  "kernelspec": {
   "display_name": "base",
   "language": "python",
   "name": "python3"
  },
  "language_info": {
   "codemirror_mode": {
    "name": "ipython",
    "version": 3
   },
   "file_extension": ".py",
   "mimetype": "text/x-python",
   "name": "python",
   "nbconvert_exporter": "python",
   "pygments_lexer": "ipython3",
   "version": "3.11.7"
  }
 },
 "nbformat": 4,
 "nbformat_minor": 2
}
