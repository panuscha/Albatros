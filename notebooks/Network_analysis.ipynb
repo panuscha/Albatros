{
 "cells": [
  {
   "cell_type": "code",
   "execution_count": 16,
   "metadata": {},
   "outputs": [],
   "source": [
    "import pandas as pd\n",
    "from itertools import combinations"
   ]
  },
  {
   "cell_type": "code",
   "execution_count": 4,
   "metadata": {},
   "outputs": [],
   "source": [
    "df = pd.read_excel('excel tables/Scraped Data.xlsx')"
   ]
  },
  {
   "cell_type": "code",
   "execution_count": 24,
   "metadata": {},
   "outputs": [],
   "source": [
    "languages = set([x.strip() for xs in list(df['Sold To']) for x in xs.split(',')])\n",
    "languages.remove('Not found')\n",
    "languages.remove('English')\n",
    "df_language_books = {}\n",
    "for lang in languages:\n",
    "    indicies = [any(x.strip() == lang for x in xs.split(',')) for xs in list(df['Sold To']) ]\n",
    "    df_language_books[lang] = list(df[indicies]['Book Name'])\n",
    "\n",
    "network_dict = {'Source': [], 'Target': []}\n",
    "for key, value in df_language_books.items():\n",
    "    comb = combinations(value, 2)\n",
    "    for i in list(comb):\n",
    "        network_dict['Source'].append(i[0])\n",
    "        network_dict['Target'].append(i[1])\n",
    "\n",
    "df_network = pd.DataFrame(network_dict)\n",
    "output_path = f\"excel tables/book_association_gephi.csv\"\n",
    "df_network.to_csv(output_path, index=False)     \n",
    "\n"
   ]
  }
 ],
 "metadata": {
  "kernelspec": {
   "display_name": "base",
   "language": "python",
   "name": "python3"
  },
  "language_info": {
   "codemirror_mode": {
    "name": "ipython",
    "version": 3
   },
   "file_extension": ".py",
   "mimetype": "text/x-python",
   "name": "python",
   "nbconvert_exporter": "python",
   "pygments_lexer": "ipython3",
   "version": "3.11.7"
  }
 },
 "nbformat": 4,
 "nbformat_minor": 2
}
