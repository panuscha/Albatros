{
 "cells": [
  {
   "cell_type": "code",
   "execution_count": 1,
   "metadata": {},
   "outputs": [],
   "source": [
    "import pandas as pd\n",
    "import os\n",
    "from bs4 import BeautifulSoup\n",
    "import re\n",
    "from collections import defaultdict"
   ]
  },
  {
   "cell_type": "code",
   "execution_count": 2,
   "metadata": {},
   "outputs": [],
   "source": [
    "df = pd.read_excel('excel tables/Scraped Data.xlsx')\n",
    "#df.category = df.category.apply(lambda x: x.split('\\' \\''))\n",
    "df['book parametes'] = df['book parametes'].apply(lambda x: x.replace('|', ',').split(','))\n"
   ]
  },
  {
   "cell_type": "code",
   "execution_count": 5,
   "metadata": {},
   "outputs": [],
   "source": [
    "import ast\n",
    "def fix_and_convert(s):\n",
    "    # Insert a comma between elements\n",
    "    s_corrected = re.sub(r\"(?<=')\\s+(?=')\", \", \", s)\n",
    "    # Convert the corrected string to a list\n",
    "    return ast.literal_eval(s_corrected)\n",
    "\n",
    "df['category'] = df['category'].apply(fix_and_convert)\n"
   ]
  },
  {
   "cell_type": "code",
   "execution_count": 6,
   "metadata": {},
   "outputs": [],
   "source": [
    "\n",
    "# Apply the function to each row\n",
    "df['size'] = df['book parametes'].apply(\n",
    "    lambda x: next((item for item in x if re.search(r'mm\\b$', item.strip(), re.IGNORECASE)), None)\n",
    ")\n",
    "# Apply the function to each row\n",
    "df['pages'] = df['book parametes'].apply(\n",
    "    lambda x: next((item for item in x if re.search(r'\\b(pag|spread)\\w*', item.strip(), re.IGNORECASE)), None)\n",
    ")"
   ]
  },
  {
   "cell_type": "code",
   "execution_count": 7,
   "metadata": {},
   "outputs": [
    {
     "name": "stdout",
     "output_type": "stream",
     "text": [
      "19\n"
     ]
    }
   ],
   "source": [
    "# Find if the description mentions word award\n",
    "df['award'] = df['description'].apply(lambda x: True if re.search(r'award', x, re.IGNORECASE) else False ) \n",
    "print(len(df[df['award'] == True]))  "
   ]
  },
  {
   "cell_type": "code",
   "execution_count": 8,
   "metadata": {},
   "outputs": [],
   "source": [
    "df['multimodality'] =  df['book parametes'].apply(\n",
    "    lambda x: next(( True for item in x if re.search(r'\\b(\\+|with)\\w*', item.strip(), re.IGNORECASE)), False)\n",
    ")\n",
    "df['pop-up'] =  df['book parametes'].apply(\n",
    "    lambda x: next(( True for item in x if re.search(r'\\b(pop-up|pup-up)\\w*', item.strip(), re.IGNORECASE)), False)\n",
    ")\n",
    "df['gatefolds'] =  df['book parametes'].apply(\n",
    "    lambda x: next(( True for item in x if re.search(r'\\b(gatefold)\\w*', item.strip(), re.IGNORECASE)), False)\n",
    ")\n",
    "df['effect'] =  df['book parametes'].apply(\n",
    "    lambda x: next(( True for item in x if re.search(r'\\b(effect)\\w*', item.strip(), re.IGNORECASE)), False)\n",
    ")\n",
    "df['sticker'] =  df['book parametes'].apply(\n",
    "    lambda x: next(( True for item in x if re.search(r'\\b(sticker)\\w*', item.strip(), re.IGNORECASE)), False)\n",
    ")\n",
    "\n",
    "df['multimodality'] = df[['pop-up', 'gatefolds', 'effect', 'sticker']].any(axis=1)\n",
    "df.to_excel('Scraped Data.xlsx')   "
   ]
  },
  {
   "cell_type": "code",
   "execution_count": null,
   "metadata": {},
   "outputs": [],
   "source": [
    "df = pd.from_excel()"
   ]
  },
  {
   "cell_type": "code",
   "execution_count": 40,
   "metadata": {},
   "outputs": [],
   "source": [
    "import requests\n",
    "\n",
    "url = 'https://www.albatrosmedia.eu/UploadedImages/pdf/pdf/I_Can_Move_Like_Animals_Do_view.pdf'\n",
    "\n",
    "page = requests.get(url) \n",
    "\n"
   ]
  }
 ],
 "metadata": {
  "kernelspec": {
   "display_name": "base",
   "language": "python",
   "name": "python3"
  },
  "language_info": {
   "codemirror_mode": {
    "name": "ipython",
    "version": 3
   },
   "file_extension": ".py",
   "mimetype": "text/x-python",
   "name": "python",
   "nbconvert_exporter": "python",
   "pygments_lexer": "ipython3",
   "version": "3.12.10"
  }
 },
 "nbformat": 4,
 "nbformat_minor": 2
}
