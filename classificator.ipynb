{
 "cells": [
  {
   "cell_type": "code",
   "execution_count": 1,
   "id": "cb922bb1",
   "metadata": {},
   "outputs": [],
   "source": [
    "import pandas as pd\n",
    "import numpy as np\n",
    "import string\n",
    "from sklearn.base import BaseEstimator, TransformerMixin\n",
    "from sklearn.pipeline import Pipeline, FeatureUnion\n",
    "from sklearn.feature_extraction.text import TfidfVectorizer\n",
    "from sklearn.ensemble import RandomForestClassifier\n",
    "from sklearn.model_selection import train_test_split\n",
    "from sklearn.metrics import classification_report"
   ]
  },
  {
   "cell_type": "code",
   "execution_count": null,
   "id": "24d74b9b",
   "metadata": {},
   "outputs": [],
   "source": [
    "n_gram = 1\n",
    "\n",
    "pipeline = Pipeline([\n",
    "    ('tfidf', TfidfVectorizer(ngram_range=(1,n_gram) )),\n",
    "    ('rf', RandomForestClassifier())\n",
    "])\n",
    "\n",
    "# how can i see what the tokenizer is doing?\n",
    "tokenized = pipeline.named_steps['tfidf'].fit_transform(X)\n",
    "# show tokenized as text\n",
    "tokenized_text = pipeline.named_steps['tfidf'].inverse_transform(tokenized)\n",
    "print(tokenized_text[:110])\n",
    "pipeline.fit(X, y)\n",
    "\n",
    "# Get feature names from TfidfVectorizer\n",
    "feature_names = pipeline.named_steps['tfidf'].get_feature_names_out()\n",
    "\n",
    "# Get feature importances by class\n",
    "importances_by_class = {}\n",
    "for class_index, class_label in enumerate(pipeline.named_steps['rf'].classes_):\n",
    "    print('Class {}'.format(class_label))\n",
    "    # Binary classification: one class vs rest\n",
    "    y_binary = (y == class_label)\n",
    "    rf_binary = RandomForestClassifier(oob_score=classification_report)\n",
    "    rf_binary.fit(pipeline.named_steps['tfidf'].transform(X), y_binary)\n",
    "    importances_by_class[class_label] = dict(\n",
    "        sorted(zip(feature_names, rf_binary.feature_importances_), key=lambda x: x[1], reverse=True))\n",
    "\n",
    "# Print feature importances by class\n",
    "for class_label, importances in importances_by_class.items():\n",
    "    print(f\"\\nClass: {class_label}\")\n",
    "    for feature_name, importance in list(importances.items())[:25]:\n",
    "        print(f\"{feature_name}: {importance}\")\n",
    "\n",
    "# report classification score on the oob set\n",
    "print(f\"oob score: {rf_binary.oob_score_}\")   "
   ]
  },
  {
   "cell_type": "code",
   "execution_count": 2,
   "id": "29d8a958",
   "metadata": {},
   "outputs": [],
   "source": [
    "class TextStats(BaseEstimator, TransformerMixin):\n",
    "    def fit(self, X, y=None):\n",
    "        return self\n",
    "    \n",
    "    def transform(self, X):\n",
    "        return np.array([\n",
    "            [\n",
    "                len(text.split()),                   # word count\n",
    "                len(text),                           # char count\n",
    "                sum(c in string.punctuation for c in text),  # punctuation count\n",
    "                sum(1 for c in text if c.isupper()) / (len(text) + 1e-5)  # uppercase ratio\n",
    "            ]\n",
    "            for text in X\n",
    "        ])"
   ]
  },
  {
   "cell_type": "code",
   "execution_count": 3,
   "id": "148e5a86",
   "metadata": {},
   "outputs": [
    {
     "name": "stdout",
     "output_type": "stream",
     "text": [
      "                      precision    recall  f1-score   support\n",
      "\n",
      "    1. Title/Caption       0.95      0.98      0.96       307\n",
      "2. Short Explanation       0.74      0.57      0.65        40\n",
      "        3. Full Text       0.93      0.87      0.90        15\n",
      "\n",
      "            accuracy                           0.93       362\n",
      "           macro avg       0.87      0.81      0.84       362\n",
      "        weighted avg       0.93      0.93      0.93       362\n",
      "\n"
     ]
    }
   ],
   "source": [
    "df = pd.read_excel(f'excel tables/Classifier_text_with_categories.xlsx')\n",
    "\n",
    "X_train, X_test, y_train, y_test = train_test_split(df[\"text\"], df[\"category\"], test_size=0.3, random_state=42)\n",
    "\n",
    "\n",
    "pipeline = Pipeline([\n",
    "    ('features', FeatureUnion([\n",
    "        ('tfidf', TfidfVectorizer(lowercase=True, stop_words='english', max_features=1000)),\n",
    "        ('textstats', TextStats())\n",
    "    ])),\n",
    "    ('clf', RandomForestClassifier(n_estimators=100, random_state=42))\n",
    "])\n",
    "\n",
    "pipeline.fit(X_train, y_train)\n",
    "\n",
    "y_pred = pipeline.predict(X_test)\n",
    "print(classification_report(y_test, y_pred))"
   ]
  }
 ],
 "metadata": {
  "kernelspec": {
   "display_name": "base",
   "language": "python",
   "name": "python3"
  },
  "language_info": {
   "codemirror_mode": {
    "name": "ipython",
    "version": 3
   },
   "file_extension": ".py",
   "mimetype": "text/x-python",
   "name": "python",
   "nbconvert_exporter": "python",
   "pygments_lexer": "ipython3",
   "version": "3.12.10"
  }
 },
 "nbformat": 4,
 "nbformat_minor": 5
}
